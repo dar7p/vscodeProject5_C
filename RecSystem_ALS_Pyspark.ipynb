{
 "cells": [
  {
   "cell_type": "code",
   "execution_count": 0,
   "metadata": {
    "application/vnd.databricks.v1+cell": {
     "cellMetadata": {
      "byteLimit": 2048000,
      "rowLimit": 10000
     },
     "inputWidgets": {},
     "nuid": "89c5643b-4ef1-4569-b527-f12ac87ce360",
     "showTitle": false,
     "title": ""
    }
   },
   "outputs": [],
   "source": [
    "# importing and creating sparksession object\n",
    "from pyspark.sql import SparkSession \n",
    "spark=SparkSession.builder.appName('RecSystem_ALS_Pyspark_app1').getOrCreate()"
   ]
  },
  {
   "cell_type": "code",
   "execution_count": 0,
   "metadata": {
    "application/vnd.databricks.v1+cell": {
     "cellMetadata": {
      "byteLimit": 2048000,
      "rowLimit": 10000
     },
     "inputWidgets": {},
     "nuid": "ee93f630-41bd-4e6a-a3e0-5be31c32beb8",
     "showTitle": false,
     "title": ""
    }
   },
   "outputs": [],
   "source": [
    "# importing the required functions and libraries\n",
    "from pyspark.sql.functions import *"
   ]
  },
  {
   "cell_type": "code",
   "execution_count": 0,
   "metadata": {
    "application/vnd.databricks.v1+cell": {
     "cellMetadata": {
      "byteLimit": 2048000,
      "rowLimit": 10000
     },
     "inputWidgets": {},
     "nuid": "1540a09d-24d3-44dc-ac91-c1581802aab2",
     "showTitle": false,
     "title": ""
    }
   },
   "outputs": [],
   "source": [
    "# loading the dataset and creating spark dataframe with naming convention s_df = spark_df\n",
    "s_df = spark.read.csv('/FileStore/tables/movie_ratings_df.csv',inferSchema=True,header=True)"
   ]
  },
  {
   "cell_type": "code",
   "execution_count": 0,
   "metadata": {
    "application/vnd.databricks.v1+cell": {
     "cellMetadata": {
      "byteLimit": 2048000,
      "rowLimit": 10000
     },
     "inputWidgets": {},
     "nuid": "5f1e628a-c80d-4586-86bd-c810853495bb",
     "showTitle": false,
     "title": ""
    }
   },
   "outputs": [
    {
     "output_type": "stream",
     "name": "stdout",
     "output_type": "stream",
     "text": [
      "(100000, 3)\n"
     ]
    }
   ],
   "source": [
    "# validating the shape of the data \n",
    "print((s_df.count(),len(s_df.columns)))"
   ]
  },
  {
   "cell_type": "code",
   "execution_count": 0,
   "metadata": {
    "application/vnd.databricks.v1+cell": {
     "cellMetadata": {
      "byteLimit": 2048000,
      "rowLimit": 10000
     },
     "inputWidgets": {},
     "nuid": "e7056673-1095-48be-a3ff-70b2d4c1e6e7",
     "showTitle": false,
     "title": ""
    }
   },
   "outputs": [
    {
     "output_type": "stream",
     "name": "stdout",
     "output_type": "stream",
     "text": [
      "root\n |-- userId: integer (nullable = true)\n |-- title: string (nullable = true)\n |-- rating: integer (nullable = true)\n\n"
     ]
    }
   ],
   "source": [
    "# checking columns in dataframe\n",
    "s_df.printSchema()"
   ]
  },
  {
   "cell_type": "code",
   "execution_count": 0,
   "metadata": {
    "application/vnd.databricks.v1+cell": {
     "cellMetadata": {
      "byteLimit": 2048000,
      "rowLimit": 10000
     },
     "inputWidgets": {},
     "nuid": "743e1f6f-d0cd-4e6d-8324-e418e6d63ce2",
     "showTitle": false,
     "title": ""
    }
   },
   "outputs": [
    {
     "output_type": "stream",
     "name": "stdout",
     "output_type": "stream",
     "text": [
      "+------+---------------------------------------------+------+\n|userId|title                                        |rating|\n+------+---------------------------------------------+------+\n|806   |Heat (1995)                                  |4     |\n|886   |Star Trek VI: The Undiscovered Country (1991)|3     |\n|327   |Sleepers (1996)                              |2     |\n|308   |Searching for Bobby Fischer (1993)           |4     |\n|507   |Deconstructing Harry (1997)                  |5     |\n|299   |Star Trek III: The Search for Spock (1984)   |3     |\n|601   |Little Princess, A (1995)                    |3     |\n+------+---------------------------------------------+------+\nonly showing top 7 rows\n\n"
     ]
    }
   ],
   "source": [
    "# validating few rows of dataframe in random order\n",
    "s_df.orderBy(rand()).show(7,False)"
   ]
  },
  {
   "cell_type": "code",
   "execution_count": 0,
   "metadata": {
    "application/vnd.databricks.v1+cell": {
     "cellMetadata": {
      "byteLimit": 2048000,
      "rowLimit": 10000
     },
     "inputWidgets": {},
     "nuid": "9f15502a-f8e9-4632-94ff-d19a8a93cc54",
     "showTitle": false,
     "title": ""
    }
   },
   "outputs": [
    {
     "output_type": "stream",
     "name": "stdout",
     "output_type": "stream",
     "text": [
      "+------+-----+\n|userId|count|\n+------+-----+\n|405   |737  |\n|655   |685  |\n|13    |636  |\n|450   |540  |\n|276   |518  |\n|416   |493  |\n|537   |490  |\n+------+-----+\nonly showing top 7 rows\n\n"
     ]
    }
   ],
   "source": [
    "# check number of ratings by each user\n",
    "s_df.groupBy('userId').count().orderBy('count',ascending=False).show(7,False)"
   ]
  },
  {
   "cell_type": "code",
   "execution_count": 0,
   "metadata": {
    "application/vnd.databricks.v1+cell": {
     "cellMetadata": {
      "byteLimit": 2048000,
      "rowLimit": 10000
     },
     "inputWidgets": {},
     "nuid": "dbb90a89-6633-4b1e-ab8d-b94adb7f4829",
     "showTitle": false,
     "title": ""
    }
   },
   "outputs": [
    {
     "output_type": "stream",
     "name": "stdout",
     "output_type": "stream",
     "text": [
      "+------+-----+\n|userId|count|\n+------+-----+\n|19    |20   |\n|143   |20   |\n|309   |20   |\n|34    |20   |\n|202   |20   |\n|732   |20   |\n|441   |20   |\n|685   |20   |\n|824   |20   |\n|631   |20   |\n+------+-----+\nonly showing top 10 rows\n\n"
     ]
    }
   ],
   "source": [
    "# check number of ratings by each user\n",
    "# minimum count 20 for any user, means any user rated atleast 20 movies\n",
    "s_df.groupBy('userId').count().orderBy('count',ascending=True).show(10,False)"
   ]
  },
  {
   "cell_type": "code",
   "execution_count": 0,
   "metadata": {
    "application/vnd.databricks.v1+cell": {
     "cellMetadata": {
      "byteLimit": 2048000,
      "rowLimit": 10000
     },
     "inputWidgets": {},
     "nuid": "24493b28-f282-404a-9b9f-d1343395ebcd",
     "showTitle": false,
     "title": ""
    }
   },
   "outputs": [
    {
     "output_type": "stream",
     "name": "stdout",
     "output_type": "stream",
     "text": [
      "+---------------------------+-----+\n|title                      |count|\n+---------------------------+-----+\n|Star Wars (1977)           |583  |\n|Contact (1997)             |509  |\n|Fargo (1996)               |508  |\n|Return of the Jedi (1983)  |507  |\n|Liar Liar (1997)           |485  |\n|English Patient, The (1996)|481  |\n|Scream (1996)              |478  |\n+---------------------------+-----+\nonly showing top 7 rows\n\n"
     ]
    }
   ],
   "source": [
    "# number of times movie been rated \n",
    "s_df.groupBy('title').count().orderBy('count',ascending=False).show(7,False)"
   ]
  },
  {
   "cell_type": "code",
   "execution_count": 0,
   "metadata": {
    "application/vnd.databricks.v1+cell": {
     "cellMetadata": {
      "byteLimit": 2048000,
      "rowLimit": 10000
     },
     "inputWidgets": {},
     "nuid": "ea9d8e60-5c6f-4c6a-95fe-64cd9cff2315",
     "showTitle": false,
     "title": ""
    }
   },
   "outputs": [
    {
     "output_type": "stream",
     "name": "stdout",
     "output_type": "stream",
     "text": [
      "+------------------------------------------+-----+\n|title                                     |count|\n+------------------------------------------+-----+\n|Next Step, The (1995)                     |1    |\n|Marlene Dietrich: Shadow and Light (1996) |1    |\n|Mad Dog Time (1996)                       |1    |\n|Target (1995)                             |1    |\n|Leopard Son, The (1996)                   |1    |\n|Modern Affair, A (1995)                   |1    |\n|Lashou shentan (1992)                     |1    |\n+------------------------------------------+-----+\nonly showing top 7 rows\n\n"
     ]
    }
   ],
   "source": [
    "s_df.groupBy('title').count().orderBy('count',ascending=True).show(7,False)"
   ]
  },
  {
   "cell_type": "code",
   "execution_count": 0,
   "metadata": {
    "application/vnd.databricks.v1+cell": {
     "cellMetadata": {
      "byteLimit": 2048000,
      "rowLimit": 10000
     },
     "inputWidgets": {},
     "nuid": "58bb9329-f1ab-497b-9485-1a9fdc1ae44e",
     "showTitle": false,
     "title": ""
    }
   },
   "outputs": [],
   "source": [
    "# importing String indexer to convert string values to numeric values\n",
    "from pyspark.ml.feature import StringIndexer,IndexToString"
   ]
  },
  {
   "cell_type": "code",
   "execution_count": 0,
   "metadata": {
    "application/vnd.databricks.v1+cell": {
     "cellMetadata": {
      "byteLimit": 2048000,
      "rowLimit": 10000
     },
     "inputWidgets": {},
     "nuid": "f8941f7b-77e0-414c-a110-a71961763a2b",
     "showTitle": false,
     "title": ""
    }
   },
   "outputs": [],
   "source": [
    "# creating string indexer to convert the movie title column values into numerical values\n",
    "si_object = StringIndexer(inputCol=\"title\", outputCol=\"title_new\")"
   ]
  },
  {
   "cell_type": "code",
   "execution_count": 0,
   "metadata": {
    "application/vnd.databricks.v1+cell": {
     "cellMetadata": {
      "byteLimit": 2048000,
      "rowLimit": 10000
     },
     "inputWidgets": {},
     "nuid": "817b46a5-c08c-4a6a-bc36-20ab5b727ea1",
     "showTitle": false,
     "title": ""
    }
   },
   "outputs": [],
   "source": [
    "# applying stringindexer object on dataframe movie title column\n",
    "si_model = si_object.fit(s_df)"
   ]
  },
  {
   "cell_type": "code",
   "execution_count": 0,
   "metadata": {
    "application/vnd.databricks.v1+cell": {
     "cellMetadata": {
      "byteLimit": 2048000,
      "rowLimit": 10000
     },
     "inputWidgets": {},
     "nuid": "a8cb8b28-2909-45d5-a608-68bef93c23a4",
     "showTitle": false,
     "title": ""
    }
   },
   "outputs": [],
   "source": [
    "# creating new dataframe with transformed values\n",
    "s_df_indexed = si_model.transform(s_df)"
   ]
  },
  {
   "cell_type": "code",
   "execution_count": 0,
   "metadata": {
    "application/vnd.databricks.v1+cell": {
     "cellMetadata": {
      "byteLimit": 2048000,
      "rowLimit": 10000
     },
     "inputWidgets": {},
     "nuid": "a3b73a8c-e6fd-47da-a7a4-e20895c5f19e",
     "showTitle": false,
     "title": ""
    }
   },
   "outputs": [
    {
     "output_type": "stream",
     "name": "stdout",
     "output_type": "stream",
     "text": [
      "+------+--------------------------------------------+------+---------+\n|userId|title                                       |rating|title_new|\n+------+--------------------------------------------+------+---------+\n|701   |Game, The (1997)                            |3     |67.0     |\n|707   |Mary Poppins (1964)                         |3     |145.0    |\n|843   |Escape from New York (1981)                 |4     |369.0    |\n|70    |Young Frankenstein (1974)                   |4     |117.0    |\n|526   |Devil's Advocate, The (1997)                |2     |130.0    |\n|291   |Halloween: The Curse of Michael Myers (1995)|3     |855.0    |\n|751   |New Age, The (1994)                         |1     |1606.0   |\n+------+--------------------------------------------+------+---------+\nonly showing top 7 rows\n\n"
     ]
    }
   ],
   "source": [
    "# validate the numerical title values\n",
    "s_df_indexed.orderBy(rand()).show(7,False)"
   ]
  },
  {
   "cell_type": "code",
   "execution_count": 0,
   "metadata": {
    "application/vnd.databricks.v1+cell": {
     "cellMetadata": {
      "byteLimit": 2048000,
      "rowLimit": 10000
     },
     "inputWidgets": {},
     "nuid": "37302d4a-075f-4ada-9fa3-66187e7f5523",
     "showTitle": false,
     "title": ""
    }
   },
   "outputs": [
    {
     "output_type": "stream",
     "name": "stdout",
     "output_type": "stream",
     "text": [
      "Out[111]: [Row(userId=196, title='Kolya (1996)', rating=3, title_new=287.0),\n Row(userId=63, title='Kolya (1996)', rating=3, title_new=287.0),\n Row(userId=226, title='Kolya (1996)', rating=5, title_new=287.0),\n Row(userId=154, title='Kolya (1996)', rating=3, title_new=287.0),\n Row(userId=306, title='Kolya (1996)', rating=5, title_new=287.0),\n Row(userId=296, title='Kolya (1996)', rating=4, title_new=287.0),\n Row(userId=34, title='Kolya (1996)', rating=5, title_new=287.0)]"
     ]
    }
   ],
   "source": [
    "#validate the numerical title values using take method\n",
    "s_df_indexed.take(7)"
   ]
  },
  {
   "cell_type": "code",
   "execution_count": 0,
   "metadata": {
    "application/vnd.databricks.v1+cell": {
     "cellMetadata": {
      "byteLimit": 2048000,
      "rowLimit": 10000
     },
     "inputWidgets": {},
     "nuid": "0727df43-4b5a-4a55-8341-a6bf582f1ab3",
     "showTitle": false,
     "title": ""
    }
   },
   "outputs": [
    {
     "output_type": "stream",
     "name": "stdout",
     "output_type": "stream",
     "text": [
      "+---------+-----+\n|title_new|count|\n+---------+-----+\n|0.0      |583  |\n|1.0      |509  |\n|2.0      |508  |\n|3.0      |507  |\n|4.0      |485  |\n|5.0      |481  |\n|6.0      |478  |\n+---------+-----+\nonly showing top 7 rows\n\n"
     ]
    }
   ],
   "source": [
    "#number of times each numerical movie title has been rated \n",
    "s_df_indexed.groupBy('title_new').count().orderBy('count',ascending=False).show(7,False)"
   ]
  },
  {
   "cell_type": "code",
   "execution_count": 0,
   "metadata": {
    "application/vnd.databricks.v1+cell": {
     "cellMetadata": {
      "byteLimit": 2048000,
      "rowLimit": 10000
     },
     "inputWidgets": {},
     "nuid": "e8e1d54c-c005-4c14-b828-7368775a8368",
     "showTitle": false,
     "title": ""
    }
   },
   "outputs": [],
   "source": [
    "# spliting the data into training and test datatset\n",
    "# This will still make sure that 3:1 ratio for any user ratings will be split in both dataset or dfs, this is very important to understand\n",
    "s_df_train, s_df_test = s_df_indexed.randomSplit([0.75,0.25])"
   ]
  },
  {
   "cell_type": "code",
   "execution_count": 0,
   "metadata": {
    "application/vnd.databricks.v1+cell": {
     "cellMetadata": {
      "byteLimit": 2048000,
      "rowLimit": 10000
     },
     "inputWidgets": {},
     "nuid": "3528a27a-34fe-4b9b-a39c-8898327ff083",
     "showTitle": false,
     "title": ""
    }
   },
   "outputs": [
    {
     "output_type": "stream",
     "name": "stdout",
     "output_type": "stream",
     "text": [
      "Out[114]: 74759"
     ]
    }
   ],
   "source": [
    "# count number of records in train set\n",
    "s_df_train.count()"
   ]
  },
  {
   "cell_type": "code",
   "execution_count": 0,
   "metadata": {
    "application/vnd.databricks.v1+cell": {
     "cellMetadata": {
      "byteLimit": 2048000,
      "rowLimit": 10000
     },
     "inputWidgets": {},
     "nuid": "6f0f2221-f45e-439b-9b65-9658a585d81a",
     "showTitle": false,
     "title": ""
    }
   },
   "outputs": [
    {
     "output_type": "stream",
     "name": "stdout",
     "output_type": "stream",
     "text": [
      "Out[115]: 25241"
     ]
    }
   ],
   "source": [
    "# count number of records in test set\n",
    "s_df_test.count()"
   ]
  },
  {
   "cell_type": "code",
   "execution_count": 0,
   "metadata": {
    "application/vnd.databricks.v1+cell": {
     "cellMetadata": {
      "byteLimit": 2048000,
      "rowLimit": 10000
     },
     "inputWidgets": {},
     "nuid": "77dd285b-6e31-41e7-91e1-871fb82d2d34",
     "showTitle": false,
     "title": ""
    }
   },
   "outputs": [],
   "source": [
    "# importingg ALS recommender function from pyspark ml library\n",
    "from pyspark.ml.recommendation import ALS"
   ]
  },
  {
   "cell_type": "code",
   "execution_count": 0,
   "metadata": {
    "application/vnd.databricks.v1+cell": {
     "cellMetadata": {
      "byteLimit": 2048000,
      "rowLimit": 10000
     },
     "inputWidgets": {},
     "nuid": "aba46e5d-2916-46c9-b94f-72cc0d8b1879",
     "showTitle": false,
     "title": ""
    }
   },
   "outputs": [],
   "source": [
    "# Training the recommender model using train datatset \n",
    "# OR # Preparing rec object using ALS method with paramaeters using s_df_train coloumn names\n",
    "rec_object = ALS(maxIter=10,regParam=0.01,userCol='userId',itemCol='title_new',ratingCol='rating',nonnegative=True,coldStartStrategy=\"drop\")"
   ]
  },
  {
   "cell_type": "code",
   "execution_count": 0,
   "metadata": {
    "application/vnd.databricks.v1+cell": {
     "cellMetadata": {
      "byteLimit": 2048000,
      "rowLimit": 10000
     },
     "inputWidgets": {},
     "nuid": "1b730d8b-a8ce-4b6c-b4a2-400ff001439d",
     "showTitle": false,
     "title": ""
    }
   },
   "outputs": [],
   "source": [
    "# fit the model on train set # OR # Fitting it on s_df_train dataframe, later to transform on it \n",
    "rec_model1 = rec_object.fit(s_df_train)"
   ]
  },
  {
   "cell_type": "code",
   "execution_count": 0,
   "metadata": {
    "application/vnd.databricks.v1+cell": {
     "cellMetadata": {
      "byteLimit": 2048000,
      "rowLimit": 10000
     },
     "inputWidgets": {},
     "nuid": "2fcb0883-0fb5-49f7-b308-70c166f779bc",
     "showTitle": false,
     "title": ""
    }
   },
   "outputs": [],
   "source": [
    "# making predictions on test set # OR # making predictions on s_df_test dataframe\n",
    "s_df_predicted_ratings = rec_model1.transform(s_df_test)"
   ]
  },
  {
   "cell_type": "code",
   "execution_count": 0,
   "metadata": {
    "application/vnd.databricks.v1+cell": {
     "cellMetadata": {
      "byteLimit": 2048000,
      "rowLimit": 10000
     },
     "inputWidgets": {},
     "nuid": "dc240d52-b6de-4bdb-aa16-7ac86cd427f5",
     "showTitle": false,
     "title": ""
    }
   },
   "outputs": [
    {
     "output_type": "stream",
     "name": "stdout",
     "output_type": "stream",
     "text": [
      "root\n |-- userId: integer (nullable = false)\n |-- title: string (nullable = true)\n |-- rating: integer (nullable = true)\n |-- title_new: integer (nullable = false)\n |-- prediction: float (nullable = false)\n\n"
     ]
    }
   ],
   "source": [
    "# columns in predicted ratings dataframe\n",
    "s_df_predicted_ratings.printSchema()"
   ]
  },
  {
   "cell_type": "code",
   "execution_count": 0,
   "metadata": {
    "application/vnd.databricks.v1+cell": {
     "cellMetadata": {
      "byteLimit": 2048000,
      "rowLimit": 10000
     },
     "inputWidgets": {},
     "nuid": "62b37207-415c-469d-8244-06b1f7f631cf",
     "showTitle": false,
     "title": ""
    }
   },
   "outputs": [
    {
     "output_type": "stream",
     "name": "stdout",
     "output_type": "stream",
     "text": [
      "+------+--------------------+------+---------+----------+\n|userId|               title|rating|title_new|prediction|\n+------+--------------------+------+---------+----------+\n|     5|Fish Called Wanda...|     5|       69|   2.77064|\n|   102|     Hercules (1997)|     2|      495|   2.68609|\n|   928|      Amadeus (1984)|     5|       50| 4.4491286|\n|   369|Dead Poets Societ...|     5|       65| 4.9465523|\n|   682|  Clean Slate (1994)|     2|     1118| 2.8859372|\n|    26|     Basquiat (1996)|     2|      648|  3.430551|\n|   586|River Wild, The (...|     3|      213| 3.0809932|\n+------+--------------------+------+---------+----------+\nonly showing top 7 rows\n\n"
     ]
    }
   ],
   "source": [
    "# predicted vs actual ratings for test set , some of ratings predicitons may go over 5 since, it's regression, if it were multinomial regression/classification then result could have been probabilities for target label/ result with highest probability class being shown.\n",
    "s_df_predicted_ratings.orderBy(rand()).show(7)"
   ]
  },
  {
   "cell_type": "code",
   "execution_count": 0,
   "metadata": {
    "application/vnd.databricks.v1+cell": {
     "cellMetadata": {
      "byteLimit": 2048000,
      "rowLimit": 10000
     },
     "inputWidgets": {},
     "nuid": "8f08b8e5-f57c-4fde-821f-589d19d20b39",
     "showTitle": false,
     "title": ""
    }
   },
   "outputs": [],
   "source": [
    "# importing Regression Evaluator to measure RMSE\n",
    "from pyspark.ml.evaluation import RegressionEvaluator"
   ]
  },
  {
   "cell_type": "code",
   "execution_count": 0,
   "metadata": {
    "application/vnd.databricks.v1+cell": {
     "cellMetadata": {
      "byteLimit": 2048000,
      "rowLimit": 10000
     },
     "inputWidgets": {},
     "nuid": "e2848811-1e8d-47ea-807b-137b6bb479c1",
     "showTitle": false,
     "title": ""
    }
   },
   "outputs": [],
   "source": [
    "# creating Regressor evaluator object for measuring accuracy\n",
    "re_object = RegressionEvaluator(metricName='rmse',predictionCol='prediction',labelCol='rating')"
   ]
  },
  {
   "cell_type": "code",
   "execution_count": 0,
   "metadata": {
    "application/vnd.databricks.v1+cell": {
     "cellMetadata": {
      "byteLimit": 2048000,
      "rowLimit": 10000
     },
     "inputWidgets": {},
     "nuid": "749ea837-3ae5-4504-9380-0b5ce267cb5c",
     "showTitle": false,
     "title": ""
    }
   },
   "outputs": [],
   "source": [
    "# applying the re_object on s_df_predictions dataframe to calculate RMSE : between predictionCol and LableCol\n",
    "rmse1 = re_object.evaluate(s_df_predicted_ratings)"
   ]
  },
  {
   "cell_type": "code",
   "execution_count": 0,
   "metadata": {
    "application/vnd.databricks.v1+cell": {
     "cellMetadata": {
      "byteLimit": 2048000,
      "rowLimit": 10000
     },
     "inputWidgets": {},
     "nuid": "c32ad887-8d66-480d-994e-23ed7987f42a",
     "showTitle": false,
     "title": ""
    }
   },
   "outputs": [
    {
     "output_type": "stream",
     "name": "stdout",
     "output_type": "stream",
     "text": [
      "1.0200979709845475\n"
     ]
    }
   ],
   "source": [
    "# print RMSE error\n",
    "print(rmse1)"
   ]
  },
  {
   "cell_type": "code",
   "execution_count": 0,
   "metadata": {
    "application/vnd.databricks.v1+cell": {
     "cellMetadata": {
      "byteLimit": 2048000,
      "rowLimit": 10000
     },
     "inputWidgets": {},
     "nuid": "54711851-b16b-4401-9c21-a6f66988e3e9",
     "showTitle": false,
     "title": ""
    }
   },
   "outputs": [],
   "source": [
    "# Recommend top movies  which user might like as shown in few below cells"
   ]
  },
  {
   "cell_type": "code",
   "execution_count": 0,
   "metadata": {
    "application/vnd.databricks.v1+cell": {
     "cellMetadata": {
      "byteLimit": 2048000,
      "rowLimit": 10000
     },
     "inputWidgets": {},
     "nuid": "79c0b2f3-95db-44fb-aaf2-e2b7c7f58d59",
     "showTitle": false,
     "title": ""
    }
   },
   "outputs": [],
   "source": [
    "# creating dataset of all distinct movies \n",
    "s_df_unique_movies = s_df_indexed.select('title_new').distinct()"
   ]
  },
  {
   "cell_type": "code",
   "execution_count": 0,
   "metadata": {
    "application/vnd.databricks.v1+cell": {
     "cellMetadata": {
      "byteLimit": 2048000,
      "rowLimit": 10000
     },
     "inputWidgets": {},
     "nuid": "cb4e0cf8-852a-4796-b5d5-2c980ffa57b3",
     "showTitle": false,
     "title": ""
    }
   },
   "outputs": [
    {
     "output_type": "stream",
     "name": "stdout",
     "output_type": "stream",
     "text": [
      "Out[128]: 1664"
     ]
    }
   ],
   "source": [
    "# number of unique movies\n",
    "s_df_unique_movies.count()"
   ]
  },
  {
   "cell_type": "code",
   "execution_count": 0,
   "metadata": {
    "application/vnd.databricks.v1+cell": {
     "cellMetadata": {
      "byteLimit": 2048000,
      "rowLimit": 10000
     },
     "inputWidgets": {},
     "nuid": "ddbefbed-c36d-4127-a14a-2d356262d04f",
     "showTitle": false,
     "title": ""
    }
   },
   "outputs": [],
   "source": [
    "# assigning alias name 's_df_a' to unique movies df\n",
    "s_df_a = s_df_unique_movies.alias('s_df_a')"
   ]
  },
  {
   "cell_type": "code",
   "execution_count": 0,
   "metadata": {
    "application/vnd.databricks.v1+cell": {
     "cellMetadata": {
      "byteLimit": 2048000,
      "rowLimit": 10000
     },
     "inputWidgets": {},
     "nuid": "2c7598cd-7f19-4653-86dd-6f6846508669",
     "showTitle": false,
     "title": ""
    }
   },
   "outputs": [],
   "source": [
    "user_id = 93"
   ]
  },
  {
   "cell_type": "code",
   "execution_count": 0,
   "metadata": {
    "application/vnd.databricks.v1+cell": {
     "cellMetadata": {
      "byteLimit": 2048000,
      "rowLimit": 10000
     },
     "inputWidgets": {},
     "nuid": "d4808a28-83b0-4716-ac5a-b11a72e9954c",
     "showTitle": false,
     "title": ""
    }
   },
   "outputs": [],
   "source": [
    "# creating another dataframe which contains already watched movie by active user with user_id = 93\n",
    "s_df_watched_movies = s_df_indexed.filter(s_df_indexed['userId'] == user_id).select('title_new').distinct()"
   ]
  },
  {
   "cell_type": "code",
   "execution_count": 0,
   "metadata": {
    "application/vnd.databricks.v1+cell": {
     "cellMetadata": {
      "byteLimit": 2048000,
      "rowLimit": 10000
     },
     "inputWidgets": {},
     "nuid": "0c2f8f55-4ed1-4107-9bfa-a0d5c8e00195",
     "showTitle": false,
     "title": ""
    }
   },
   "outputs": [
    {
     "output_type": "stream",
     "name": "stdout",
     "output_type": "stream",
     "text": [
      "Out[132]: 20"
     ]
    }
   ],
   "source": [
    "# number of movies already rated \n",
    "s_df_watched_movies.count()"
   ]
  },
  {
   "cell_type": "code",
   "execution_count": 0,
   "metadata": {
    "application/vnd.databricks.v1+cell": {
     "cellMetadata": {
      "byteLimit": 2048000,
      "rowLimit": 10000
     },
     "inputWidgets": {},
     "nuid": "7270c818-159b-4f73-b856-1d378d55c168",
     "showTitle": false,
     "title": ""
    }
   },
   "outputs": [],
   "source": [
    "# assigning alias name 's_df_b' to watched movies df\n",
    "s_df_b = s_df_watched_movies.alias('s_df_b')"
   ]
  },
  {
   "cell_type": "code",
   "execution_count": 0,
   "metadata": {
    "application/vnd.databricks.v1+cell": {
     "cellMetadata": {
      "byteLimit": 2048000,
      "rowLimit": 10000
     },
     "inputWidgets": {},
     "nuid": "70118cbd-5349-46d8-822e-1dc15d9985fe",
     "showTitle": false,
     "title": ""
    }
   },
   "outputs": [],
   "source": [
    "# joining both tables on left join \n",
    "s_df_total_movies = s_df_a.join(s_df_b, s_df_a.title_new == s_df_b.title_new, how='left')\n"
   ]
  },
  {
   "cell_type": "code",
   "execution_count": 0,
   "metadata": {
    "application/vnd.databricks.v1+cell": {
     "cellMetadata": {
      "byteLimit": 2048000,
      "rowLimit": 10000
     },
     "inputWidgets": {},
     "nuid": "7b9a3b68-ba9d-4dd6-ab05-cd5fa4b45ff0",
     "showTitle": false,
     "title": ""
    }
   },
   "outputs": [
    {
     "output_type": "stream",
     "name": "stdout",
     "output_type": "stream",
     "text": [
      "+---------+---------+\n|title_new|title_new|\n+---------+---------+\n|413.0    |null     |\n|287.0    |null     |\n|85.0     |null     |\n|123.0    |null     |\n|259.0    |null     |\n|1045.0   |null     |\n|38.0     |null     |\n+---------+---------+\nonly showing top 7 rows\n\n"
     ]
    }
   ],
   "source": [
    "s_df_total_movies.show(7, False)"
   ]
  },
  {
   "cell_type": "code",
   "execution_count": 0,
   "metadata": {
    "application/vnd.databricks.v1+cell": {
     "cellMetadata": {
      "byteLimit": 2048000,
      "rowLimit": 10000
     },
     "inputWidgets": {},
     "nuid": "03761b94-25eb-4201-99df-25c94b021849",
     "showTitle": false,
     "title": ""
    }
   },
   "outputs": [],
   "source": [
    "# selecting movies which active user is yet to rate or watch\n",
    "s_df_remaining_movies = s_df_total_movies.where(col(\"s_df_b.title_new\").isNull()).select(s_df_a.title_new).distinct()"
   ]
  },
  {
   "cell_type": "code",
   "execution_count": 0,
   "metadata": {
    "application/vnd.databricks.v1+cell": {
     "cellMetadata": {
      "byteLimit": 2048000,
      "rowLimit": 10000
     },
     "inputWidgets": {},
     "nuid": "0606bdd2-54fd-4b0d-928e-a39073549cf3",
     "showTitle": false,
     "title": ""
    }
   },
   "outputs": [
    {
     "output_type": "stream",
     "name": "stdout",
     "output_type": "stream",
     "text": [
      "Out[137]: 1644"
     ]
    }
   ],
   "source": [
    "# number of movies active user user_id = 93, is yet to rate \n",
    "s_df_remaining_movies.count()"
   ]
  },
  {
   "cell_type": "code",
   "execution_count": 0,
   "metadata": {
    "application/vnd.databricks.v1+cell": {
     "cellMetadata": {
      "byteLimit": 2048000,
      "rowLimit": 10000
     },
     "inputWidgets": {},
     "nuid": "d1220ae1-b79e-4581-93eb-8cd463ffc371",
     "showTitle": false,
     "title": ""
    }
   },
   "outputs": [],
   "source": [
    "# adding new column of user_Id of active user to  s_df_remaining_movies_df \n",
    "s_df_remaining_movies = s_df_remaining_movies.withColumn(\"userId\",lit(int(user_id)))\n"
   ]
  },
  {
   "cell_type": "code",
   "execution_count": 0,
   "metadata": {
    "application/vnd.databricks.v1+cell": {
     "cellMetadata": {
      "byteLimit": 2048000,
      "rowLimit": 10000
     },
     "inputWidgets": {},
     "nuid": "0a0eef4b-3528-4949-9997-78853c61aca6",
     "showTitle": false,
     "title": ""
    }
   },
   "outputs": [
    {
     "output_type": "stream",
     "name": "stdout",
     "output_type": "stream",
     "text": [
      "+---------+------+\n|title_new|userId|\n+---------+------+\n|305.0    |93    |\n|596.0    |93    |\n|299.0    |93    |\n|769.0    |93    |\n|692.0    |93    |\n|934.0    |93    |\n|1051.0   |93    |\n+---------+------+\nonly showing top 7 rows\n\n"
     ]
    }
   ],
   "source": [
    "s_df_remaining_movies.show(7,False)"
   ]
  },
  {
   "cell_type": "code",
   "execution_count": 0,
   "metadata": {
    "application/vnd.databricks.v1+cell": {
     "cellMetadata": {
      "byteLimit": 2048000,
      "rowLimit": 10000
     },
     "inputWidgets": {},
     "nuid": "d6c76ec2-04b1-4a79-af1a-199d62c36f13",
     "showTitle": false,
     "title": ""
    }
   },
   "outputs": [],
   "source": [
    "# making recommendations using ALS recommender model and selecting only top 'n' movies\n",
    "s_df_recommendations = rec_model1.transform(s_df_remaining_movies).orderBy('prediction',ascending=False)"
   ]
  },
  {
   "cell_type": "code",
   "execution_count": 0,
   "metadata": {
    "application/vnd.databricks.v1+cell": {
     "cellMetadata": {
      "byteLimit": 2048000,
      "rowLimit": 10000
     },
     "inputWidgets": {},
     "nuid": "1d74c438-198b-49dd-93c1-219d122aa255",
     "showTitle": false,
     "title": ""
    }
   },
   "outputs": [
    {
     "output_type": "stream",
     "name": "stdout",
     "output_type": "stream",
     "text": [
      "+---------+------+----------+\n|title_new|userId|prediction|\n+---------+------+----------+\n|1289     |93    |14.980225 |\n|1103     |93    |12.038351 |\n|974      |93    |9.184722  |\n|1290     |93    |9.08625   |\n|1092     |93    |8.703954  |\n|1114     |93    |8.375067  |\n|1323     |93    |8.291331  |\n|953      |93    |8.284655  |\n|971      |93    |8.244253  |\n|708      |93    |8.160689  |\n+---------+------+----------+\nonly showing top 10 rows\n\n"
     ]
    }
   ],
   "source": [
    "# As mentioned above, some of ratings predicitons may go over 5 since, it's regression. These are predictions for user_id = 93, ALS model used previously learnt, U factor, I factor, multiply U_factor_u_id_93 with I_factor for selected_Unseen_movies and ratings are produced\n",
    "s_df_recommendations.show(10,False)"
   ]
  },
  {
   "cell_type": "code",
   "execution_count": 0,
   "metadata": {
    "application/vnd.databricks.v1+cell": {
     "cellMetadata": {
      "byteLimit": 2048000,
      "rowLimit": 10000
     },
     "inputWidgets": {},
     "nuid": "f467a856-9110-49a6-aad7-f3c331657ee2",
     "showTitle": false,
     "title": ""
    }
   },
   "outputs": [],
   "source": [
    "# converting title_new values back to movie titles\n",
    "s_df_movie_title = IndexToString(inputCol=\"title_new\", outputCol=\"title\",labels=si_model.labels)\n",
    "\n",
    "s_df_final_recommendations = s_df_movie_title.transform(s_df_recommendations)\n"
   ]
  },
  {
   "cell_type": "code",
   "execution_count": 0,
   "metadata": {
    "application/vnd.databricks.v1+cell": {
     "cellMetadata": {
      "byteLimit": 2048000,
      "rowLimit": 10000
     },
     "inputWidgets": {},
     "nuid": "95395331-781d-46ac-83a4-da1743c08a8a",
     "showTitle": false,
     "title": ""
    }
   },
   "outputs": [
    {
     "output_type": "stream",
     "name": "stdout",
     "output_type": "stream",
     "text": [
      "+---------+------+----------+--------------------------------------+\n|title_new|userId|prediction|title                                 |\n+---------+------+----------+--------------------------------------+\n|1289     |93    |14.980225 |World of Apu, The (Apur Sansar) (1959)|\n|1103     |93    |12.038351 |Stalker (1979)                        |\n|974      |93    |9.184722  |Farinelli: il castrato (1994)         |\n|1290     |93    |9.08625   |Zeus and Roxanne (1997)               |\n|1092     |93    |8.703954  |American Buffalo (1996)               |\n|1114     |93    |8.375067  |Bitter Moon (1992)                    |\n|1323     |93    |8.291331  |Panther (1995)                        |\n+---------+------+----------+--------------------------------------+\nonly showing top 7 rows\n\n"
     ]
    }
   ],
   "source": [
    "s_df_final_recommendations.show(7,False)"
   ]
  },
  {
   "cell_type": "code",
   "execution_count": 0,
   "metadata": {
    "application/vnd.databricks.v1+cell": {
     "cellMetadata": {},
     "inputWidgets": {},
     "nuid": "56a78384-12ee-4e75-9369-d2de0db8e3eb",
     "showTitle": false,
     "title": ""
    }
   },
   "outputs": [],
   "source": [
    "# Before using below function, one needs to have, s_df_unique_movies(distinct_movies_df), s_df_indexed(indexed_df)"
   ]
  },
  {
   "cell_type": "code",
   "execution_count": 0,
   "metadata": {
    "application/vnd.databricks.v1+cell": {
     "cellMetadata": {
      "byteLimit": 2048000,
      "rowLimit": 10000
     },
     "inputWidgets": {},
     "nuid": "80d3bc4d-fc8c-4278-8d1a-04d22bbf0c9e",
     "showTitle": false,
     "title": ""
    }
   },
   "outputs": [],
   "source": [
    "# creating function to recommend top 'n' movies to any particular user\n",
    "def top_movies_rec(user_id,n):\n",
    "    \"\"\"\n",
    "    This function returns the top 'n' movies that user has not seen yet but might like \n",
    "    \n",
    "    \"\"\"\n",
    "    #assigning alias name 's_df_a' to unique movies df\n",
    "    s_df_a = s_df_unique_movies.alias('s_df_a')\n",
    "    \n",
    "    #creating another dataframe which contains already watched movie by active user \n",
    "    s_df_watched_movies = s_df_indexed.filter(s_df_indexed['userId'] == user_id).select('title_new')\n",
    "    \n",
    "    #assigning alias name 's_df_b' to watched movies df\n",
    "    s_df_b = s_df_watched_movies.alias('s_df_b')\n",
    "    \n",
    "    #joining both tables on left join \n",
    "    s_df_total_movies = s_df_a.join(s_df_b, s_df_a.title_new == s_df_b.title_new,how='left')\n",
    "    \n",
    "    #selecting movies which active user has not seen/watched/rated\n",
    "    s_df_remaining_movies = s_df_total_movies.where(col(\"s_df_b.title_new\").isNull()).select(s_df_a.title_new).distinct()\n",
    "    \n",
    "    \n",
    "    #adding new column of user_Id of active useer to remaining movies df \n",
    "    s_df_remaining_movies = s_df_remaining_movies.withColumn(\"userId\",lit(int(user_id)))\n",
    "    \n",
    "    \n",
    "    #making recommendations using ALS recommender model previously above created and selecting only top 'n' movies\n",
    "    s_df_recommendations = rec_model1.transform(s_df_remaining_movies).orderBy('prediction',ascending=False).limit(n)\n",
    "    \n",
    "    \n",
    "    #adding columns of movie titles in recommendations\n",
    "    s_df_movie_title = IndexToString(inputCol=\"title_new\", outputCol=\"title\",labels=si_model.labels)\n",
    "    s_df_final_recommendations = s_df_movie_title.transform(s_df_recommendations)\n",
    "    \n",
    "    #return the recommendations to active user\n",
    "    return s_df_final_recommendations.show(n, False)"
   ]
  },
  {
   "cell_type": "code",
   "execution_count": 0,
   "metadata": {
    "application/vnd.databricks.v1+cell": {
     "cellMetadata": {
      "byteLimit": 2048000,
      "rowLimit": 10000
     },
     "inputWidgets": {},
     "nuid": "4dd3b455-8af5-4152-9c48-d5f789f49cef",
     "showTitle": false,
     "title": ""
    }
   },
   "outputs": [
    {
     "output_type": "stream",
     "name": "stdout",
     "output_type": "stream",
     "text": [
      "+---------+------+----------+--------------------------------------+\n|title_new|userId|prediction|title                                 |\n+---------+------+----------+--------------------------------------+\n|1289     |93    |14.980225 |World of Apu, The (Apur Sansar) (1959)|\n|1103     |93    |12.038351 |Stalker (1979)                        |\n|974      |93    |9.184722  |Farinelli: il castrato (1994)         |\n|1290     |93    |9.08625   |Zeus and Roxanne (1997)               |\n|1092     |93    |8.703954  |American Buffalo (1996)               |\n|1114     |93    |8.375067  |Bitter Moon (1992)                    |\n|1323     |93    |8.291331  |Panther (1995)                        |\n+---------+------+----------+--------------------------------------+\n\n"
     ]
    }
   ],
   "source": [
    "# Top 7 recommendation for user_id = 93 is as same as above shown without top_movies_rec function created\n",
    "top_movies_rec(93, 7)"
   ]
  },
  {
   "cell_type": "code",
   "execution_count": 0,
   "metadata": {
    "application/vnd.databricks.v1+cell": {
     "cellMetadata": {},
     "inputWidgets": {},
     "nuid": "d0fed904-07e3-4c4c-9108-066df5fdfad7",
     "showTitle": false,
     "title": ""
    }
   },
   "outputs": [],
   "source": []
  }
 ],
 "metadata": {
  "application/vnd.databricks.v1+notebook": {
   "dashboards": [],
   "environmentMetadata": null,
   "language": "python",
   "notebookMetadata": {
    "mostRecentlyExecutedCommandWithImplicitDF": {
     "commandId": 707480572516908,
     "dataframes": [
      "_sqldf"
     ]
    },
    "pythonIndentUnit": 4
   },
   "notebookName": "RecSystem_ALS_Pyspark",
   "widgets": {}
  },
  "kernelspec": {
   "display_name": "Python 3",
   "language": "python",
   "name": "python3"
  },
  "language_info": {
   "codemirror_mode": {
    "name": "ipython",
    "version": 3
   },
   "file_extension": ".py",
   "mimetype": "text/x-python",
   "name": "python",
   "nbconvert_exporter": "python",
   "pygments_lexer": "ipython3",
   "version": "3.6.3"
  }
 },
 "nbformat": 4,
 "nbformat_minor": 0
}
